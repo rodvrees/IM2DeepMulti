{
 "cells": [
  {
   "cell_type": "code",
   "execution_count": 1,
   "metadata": {},
   "outputs": [],
   "source": [
    "import pandas as pd\n",
    "import numpy as np\n",
    "import re"
   ]
  },
  {
   "cell_type": "code",
   "execution_count": 2,
   "metadata": {},
   "outputs": [],
   "source": [
    "def modifications(input_string):\n",
    "    poslist = []\n",
    "    modlist = []\n",
    "    if \"(ac)\" in input_string:\n",
    "        poslist.append(0)\n",
    "        modlist.append('Acetyl')\n",
    "        input_string_noac = input_string.replace('(ac)', '')\n",
    "    else:\n",
    "        input_string_noac = input_string\n",
    "\n",
    "    while re.search(\"\\(ox\\)\", input_string_noac):\n",
    "        match = re.search(\"\\(ox\\)\", input_string_noac)\n",
    "        pos = match.span()[0]\n",
    "        poslist.append(pos)\n",
    "        modlist.append('Oxidation')\n",
    "        input_string_noac = re.sub('\\(ox\\)', '', input_string_noac, count=1)\n",
    "\n",
    "    C_positions = [pos for pos, char in enumerate(input_string_noac) if char == 'C']\n",
    "    for i in C_positions:\n",
    "        modlist.append(\"Carbamidomethyl\")\n",
    "        poslist.append(i+1)\n",
    "\n",
    "    sortedposlist = sorted(poslist)\n",
    "    sortedmodlist = [x for _, x in sorted(zip(poslist, modlist))]\n",
    "\n",
    "    formattedlist = []\n",
    "    for (pos, mod) in zip(sortedposlist, sortedmodlist):\n",
    "        formattedlist.append(str(pos)+'|'+str(mod))\n",
    "\n",
    "    output = '|'.join(formattedlist)\n",
    "    return output"
   ]
  },
  {
   "cell_type": "code",
   "execution_count": 4,
   "metadata": {},
   "outputs": [],
   "source": [
    "data = pd.read_csv('/home/robbe/IM2DeepMulti/aligned_with_multimodals_conformers_unique_grouped.csv', sep=\";\", converters= {\"CCS\":pd.eval})"
   ]
  },
  {
   "cell_type": "code",
   "execution_count": 5,
   "metadata": {},
   "outputs": [],
   "source": [
    "# Strip \"_\" from sequence\n",
    "data[\"sequence\"] = data[\"Modified sequence\"].str.strip(\"_\")\n",
    "\n",
    "# Strip everything between \"()\" and \"[]\" from sequence\n",
    "data[\"sequence\"] = data[\"sequence\"].str.replace(r\"[\\(\\[].*?[\\)\\]]\", \"\", regex=True)\n"
   ]
  },
  {
   "cell_type": "code",
   "execution_count": 6,
   "metadata": {},
   "outputs": [],
   "source": [
    "data['Modified sequence'] = data['Modified sequence'].str.strip(\"_\")\n",
    "data['sequence'] = data['sequence'].str.replace(\")\", \"\")"
   ]
  },
  {
   "cell_type": "code",
   "execution_count": 7,
   "metadata": {},
   "outputs": [],
   "source": [
    "# Parse modifications from Modified sequence\n",
    "data['Modified sequence'] = data['Modified sequence'].str.replace('(Acetyl (Protein N-term))', '(ac)')\n",
    "data['Modified sequence'] = data['Modified sequence'].str.replace('(Oxidation (M))', '(ox)')"
   ]
  },
  {
   "cell_type": "code",
   "execution_count": 8,
   "metadata": {},
   "outputs": [],
   "source": [
    "data['modifications'] = data['Modified sequence'].apply(modifications)\n",
    "data['modifications'] = data['modifications'].replace('', 'Not modified')"
   ]
  },
  {
   "cell_type": "code",
   "execution_count": 9,
   "metadata": {},
   "outputs": [],
   "source": [
    "data['CCS'] = data['CCS'].apply(lambda x: np.array(x))"
   ]
  },
  {
   "cell_type": "code",
   "execution_count": 11,
   "metadata": {},
   "outputs": [],
   "source": [
    "data['multimodal'] = data['CCS'].apply(lambda x: x[0] != x[1])"
   ]
  },
  {
   "cell_type": "code",
   "execution_count": 13,
   "metadata": {},
   "outputs": [],
   "source": [
    "multimodals = data[data['multimodal']]"
   ]
  },
  {
   "cell_type": "code",
   "execution_count": 14,
   "metadata": {},
   "outputs": [
    {
     "data": {
      "text/html": [
       "<div>\n",
       "<style scoped>\n",
       "    .dataframe tbody tr th:only-of-type {\n",
       "        vertical-align: middle;\n",
       "    }\n",
       "\n",
       "    .dataframe tbody tr th {\n",
       "        vertical-align: top;\n",
       "    }\n",
       "\n",
       "    .dataframe thead th {\n",
       "        text-align: right;\n",
       "    }\n",
       "</style>\n",
       "<table border=\"1\" class=\"dataframe\">\n",
       "  <thead>\n",
       "    <tr style=\"text-align: right;\">\n",
       "      <th></th>\n",
       "      <th>Modified sequence</th>\n",
       "      <th>Charge</th>\n",
       "      <th>CCS</th>\n",
       "      <th>sequence</th>\n",
       "      <th>modifications</th>\n",
       "      <th>multimodal</th>\n",
       "    </tr>\n",
       "  </thead>\n",
       "  <tbody>\n",
       "    <tr>\n",
       "      <th>216</th>\n",
       "      <td>(ac)ADDLDFETGDAGASATFPMQCSALR</td>\n",
       "      <td>2</td>\n",
       "      <td>[553.8808011101869, 593.3325884238297]</td>\n",
       "      <td>ADDLDFETGDAGASATFPMQCSALR</td>\n",
       "      <td>0|Acetyl|21|Carbamidomethyl</td>\n",
       "      <td>True</td>\n",
       "    </tr>\n",
       "    <tr>\n",
       "      <th>369</th>\n",
       "      <td>(ac)AFPHRPDAPELPDFSMLK</td>\n",
       "      <td>3</td>\n",
       "      <td>[550.8340256946149, 589.9632800847153]</td>\n",
       "      <td>AFPHRPDAPELPDFSMLK</td>\n",
       "      <td>0|Acetyl</td>\n",
       "      <td>True</td>\n",
       "    </tr>\n",
       "    <tr>\n",
       "      <th>493</th>\n",
       "      <td>(ac)ASAVSPANLPAVLLQPR</td>\n",
       "      <td>2</td>\n",
       "      <td>[505.073150712638, 454.6258100370671]</td>\n",
       "      <td>ASAVSPANLPAVLLQPR</td>\n",
       "      <td>0|Acetyl</td>\n",
       "      <td>True</td>\n",
       "    </tr>\n",
       "    <tr>\n",
       "      <th>601</th>\n",
       "      <td>(ac)AVADLALIPDVDIDSDGVFK</td>\n",
       "      <td>3</td>\n",
       "      <td>[599.3350827093011, 564.319130116306]</td>\n",
       "      <td>AVADLALIPDVDIDSDGVFK</td>\n",
       "      <td>0|Acetyl</td>\n",
       "      <td>True</td>\n",
       "    </tr>\n",
       "    <tr>\n",
       "      <th>634</th>\n",
       "      <td>(ac)AYHSFLVEPISCHAWNK</td>\n",
       "      <td>3</td>\n",
       "      <td>[576.2263509682161, 533.4697989038966]</td>\n",
       "      <td>AYHSFLVEPISCHAWNK</td>\n",
       "      <td>0|Acetyl|12|Carbamidomethyl</td>\n",
       "      <td>True</td>\n",
       "    </tr>\n",
       "    <tr>\n",
       "      <th>...</th>\n",
       "      <td>...</td>\n",
       "      <td>...</td>\n",
       "      <td>...</td>\n",
       "      <td>...</td>\n",
       "      <td>...</td>\n",
       "      <td>...</td>\n",
       "    </tr>\n",
       "    <tr>\n",
       "      <th>119526</th>\n",
       "      <td>YWDVPPPGFEHITPMQYK</td>\n",
       "      <td>3</td>\n",
       "      <td>[549.937176450393, 637.4132017215193]</td>\n",
       "      <td>YWDVPPPGFEHITPMQYK</td>\n",
       "      <td>Not modified</td>\n",
       "      <td>True</td>\n",
       "    </tr>\n",
       "    <tr>\n",
       "      <th>119553</th>\n",
       "      <td>YWPQEAGEYAVHVLCNSEDIR</td>\n",
       "      <td>3</td>\n",
       "      <td>[596.4863495710541, 663.6436940946516]</td>\n",
       "      <td>YWPQEAGEYAVHVLCNSEDIR</td>\n",
       "      <td>15|Carbamidomethyl</td>\n",
       "      <td>True</td>\n",
       "    </tr>\n",
       "    <tr>\n",
       "      <th>119605</th>\n",
       "      <td>YYEAADTVTQFDNVR</td>\n",
       "      <td>2</td>\n",
       "      <td>[491.62790291818175, 454.37298289751044]</td>\n",
       "      <td>YYEAADTVTQFDNVR</td>\n",
       "      <td>Not modified</td>\n",
       "      <td>True</td>\n",
       "    </tr>\n",
       "    <tr>\n",
       "      <th>119656</th>\n",
       "      <td>YYIHDLSDLIDCCDLGYHASLNR</td>\n",
       "      <td>4</td>\n",
       "      <td>[754.8011838821079, 669.2202440195756]</td>\n",
       "      <td>YYIHDLSDLIDCCDLGYHASLNR</td>\n",
       "      <td>12|Carbamidomethyl|13|Carbamidomethyl</td>\n",
       "      <td>True</td>\n",
       "    </tr>\n",
       "    <tr>\n",
       "      <th>119722</th>\n",
       "      <td>YYSSEYHYVGGFYGGCNEALM(ox)K</td>\n",
       "      <td>3</td>\n",
       "      <td>[598.7831159282505, 669.0486340131654]</td>\n",
       "      <td>YYSSEYHYVGGFYGGCNEALMK</td>\n",
       "      <td>16|Carbamidomethyl|21|Oxidation</td>\n",
       "      <td>True</td>\n",
       "    </tr>\n",
       "  </tbody>\n",
       "</table>\n",
       "<p>2332 rows × 6 columns</p>\n",
       "</div>"
      ],
      "text/plain": [
       "                    Modified sequence  Charge  \\\n",
       "216     (ac)ADDLDFETGDAGASATFPMQCSALR       2   \n",
       "369            (ac)AFPHRPDAPELPDFSMLK       3   \n",
       "493             (ac)ASAVSPANLPAVLLQPR       2   \n",
       "601          (ac)AVADLALIPDVDIDSDGVFK       3   \n",
       "634             (ac)AYHSFLVEPISCHAWNK       3   \n",
       "...                               ...     ...   \n",
       "119526             YWDVPPPGFEHITPMQYK       3   \n",
       "119553          YWPQEAGEYAVHVLCNSEDIR       3   \n",
       "119605                YYEAADTVTQFDNVR       2   \n",
       "119656        YYIHDLSDLIDCCDLGYHASLNR       4   \n",
       "119722     YYSSEYHYVGGFYGGCNEALM(ox)K       3   \n",
       "\n",
       "                                             CCS                   sequence  \\\n",
       "216       [553.8808011101869, 593.3325884238297]  ADDLDFETGDAGASATFPMQCSALR   \n",
       "369       [550.8340256946149, 589.9632800847153]         AFPHRPDAPELPDFSMLK   \n",
       "493        [505.073150712638, 454.6258100370671]          ASAVSPANLPAVLLQPR   \n",
       "601        [599.3350827093011, 564.319130116306]       AVADLALIPDVDIDSDGVFK   \n",
       "634       [576.2263509682161, 533.4697989038966]          AYHSFLVEPISCHAWNK   \n",
       "...                                          ...                        ...   \n",
       "119526     [549.937176450393, 637.4132017215193]         YWDVPPPGFEHITPMQYK   \n",
       "119553    [596.4863495710541, 663.6436940946516]      YWPQEAGEYAVHVLCNSEDIR   \n",
       "119605  [491.62790291818175, 454.37298289751044]            YYEAADTVTQFDNVR   \n",
       "119656    [754.8011838821079, 669.2202440195756]    YYIHDLSDLIDCCDLGYHASLNR   \n",
       "119722    [598.7831159282505, 669.0486340131654]     YYSSEYHYVGGFYGGCNEALMK   \n",
       "\n",
       "                                modifications  multimodal  \n",
       "216               0|Acetyl|21|Carbamidomethyl        True  \n",
       "369                                  0|Acetyl        True  \n",
       "493                                  0|Acetyl        True  \n",
       "601                                  0|Acetyl        True  \n",
       "634               0|Acetyl|12|Carbamidomethyl        True  \n",
       "...                                       ...         ...  \n",
       "119526                           Not modified        True  \n",
       "119553                     15|Carbamidomethyl        True  \n",
       "119605                           Not modified        True  \n",
       "119656  12|Carbamidomethyl|13|Carbamidomethyl        True  \n",
       "119722        16|Carbamidomethyl|21|Oxidation        True  \n",
       "\n",
       "[2332 rows x 6 columns]"
      ]
     },
     "execution_count": 14,
     "metadata": {},
     "output_type": "execute_result"
    }
   ],
   "source": [
    "multimodals"
   ]
  },
  {
   "cell_type": "code",
   "execution_count": 15,
   "metadata": {},
   "outputs": [
    {
     "name": "stderr",
     "output_type": "stream",
     "text": [
      "/tmp/ipykernel_3847932/1435201247.py:1: SettingWithCopyWarning: \n",
      "A value is trying to be set on a copy of a slice from a DataFrame\n",
      "\n",
      "See the caveats in the documentation: https://pandas.pydata.org/pandas-docs/stable/user_guide/indexing.html#returning-a-view-versus-a-copy\n",
      "  multimodals.rename(columns={'sequence':'seq', \"Charge\":\"charge\"}, inplace=True)\n"
     ]
    }
   ],
   "source": [
    "multimodals.rename(columns={'sequence':'seq', \"Charge\":\"charge\"}, inplace=True)"
   ]
  },
  {
   "cell_type": "code",
   "execution_count": 16,
   "metadata": {},
   "outputs": [
    {
     "name": "stderr",
     "output_type": "stream",
     "text": [
      "/tmp/ipykernel_3847932/1438102850.py:1: SettingWithCopyWarning: \n",
      "A value is trying to be set on a copy of a slice from a DataFrame.\n",
      "Try using .loc[row_indexer,col_indexer] = value instead\n",
      "\n",
      "See the caveats in the documentation: https://pandas.pydata.org/pandas-docs/stable/user_guide/indexing.html#returning-a-view-versus-a-copy\n",
      "  multimodals['tr'] = 0\n"
     ]
    }
   ],
   "source": [
    "multimodals['tr'] = 0"
   ]
  },
  {
   "cell_type": "code",
   "execution_count": null,
   "metadata": {},
   "outputs": [],
   "source": []
  },
  {
   "cell_type": "code",
   "execution_count": 18,
   "metadata": {},
   "outputs": [],
   "source": [
    "multimodals.to_pickle('/home/robbe/IM2DeepMulti/multimodals.pkl')"
   ]
  }
 ],
 "metadata": {
  "kernelspec": {
   "display_name": "multioutput",
   "language": "python",
   "name": "python3"
  },
  "language_info": {
   "codemirror_mode": {
    "name": "ipython",
    "version": 3
   },
   "file_extension": ".py",
   "mimetype": "text/x-python",
   "name": "python",
   "nbconvert_exporter": "python",
   "pygments_lexer": "ipython3",
   "version": "3.10.13"
  }
 },
 "nbformat": 4,
 "nbformat_minor": 2
}
