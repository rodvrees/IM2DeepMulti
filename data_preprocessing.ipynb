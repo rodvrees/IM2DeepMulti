{
 "cells": [
  {
   "cell_type": "code",
   "execution_count": 39,
   "metadata": {},
   "outputs": [],
   "source": [
    "import pandas as pd\n",
    "import numpy as np\n",
    "import re"
   ]
  },
  {
   "cell_type": "code",
   "execution_count": 40,
   "metadata": {},
   "outputs": [],
   "source": [
    "def modifications(input_string):\n",
    "    poslist = []\n",
    "    modlist = []\n",
    "    if \"(ac)\" in input_string:\n",
    "        poslist.append(0)\n",
    "        modlist.append('Acetyl')\n",
    "        input_string_noac = input_string.replace('(ac)', '')\n",
    "    else:\n",
    "        input_string_noac = input_string\n",
    "\n",
    "    while re.search(\"\\(ox\\)\", input_string_noac):\n",
    "        match = re.search(\"\\(ox\\)\", input_string_noac)\n",
    "        pos = match.span()[0]\n",
    "        poslist.append(pos)\n",
    "        modlist.append('Oxidation')\n",
    "        input_string_noac = re.sub('\\(ox\\)', '', input_string_noac, count=1)\n",
    "\n",
    "    if 'GlyGly' in input_string_noac:\n",
    "        match = re.search('GlyGly', input_string_noac)\n",
    "        pos = match.span()[0]\n",
    "        poslist.append(pos)\n",
    "        modlist.append('GlyGly')\n",
    "        input_string_noac = re.sub('GlyGly', '', input_string_noac, count=1)\n",
    "\n",
    "    C_positions = [pos for pos, char in enumerate(input_string_noac) if char == 'C']\n",
    "    for i in C_positions:\n",
    "        modlist.append(\"Carbamidomethyl\")\n",
    "        poslist.append(i+1)\n",
    "\n",
    "    sortedposlist = sorted(poslist)\n",
    "    sortedmodlist = [x for _, x in sorted(zip(poslist, modlist))]\n",
    "\n",
    "    formattedlist = []\n",
    "    for (pos, mod) in zip(sortedposlist, sortedmodlist):\n",
    "        formattedlist.append(str(pos)+'|'+str(mod))\n",
    "\n",
    "    output = '|'.join(formattedlist)\n",
    "    return output"
   ]
  },
  {
   "cell_type": "code",
   "execution_count": 41,
   "metadata": {},
   "outputs": [],
   "source": [
    "data = pd.read_pickle('/home/robbe/IM2DeepMulti/dataset/final_conformers_unique_grouped.pkl')"
   ]
  },
  {
   "cell_type": "code",
   "execution_count": 42,
   "metadata": {},
   "outputs": [],
   "source": [
    "# get everything between brackets of data['Modified sequence']\n",
    "data['between_brackets'] = data['Modified sequence'].str.extract(r'\\((.*?)\\)', expand=False)"
   ]
  },
  {
   "cell_type": "code",
   "execution_count": 43,
   "metadata": {},
   "outputs": [],
   "source": [
    "data_notnan = data[data['between_brackets'].notna()]"
   ]
  },
  {
   "cell_type": "code",
   "execution_count": 44,
   "metadata": {},
   "outputs": [],
   "source": [
    "# Strip \"_\" from sequence\n",
    "data[\"sequence\"] = data[\"Modified sequence\"].str.strip(\"_\")\n",
    "\n",
    "# Strip everything between \"()\" and \"[]\" from sequence\n",
    "data[\"sequence\"] = data[\"sequence\"].str.replace(r\"[\\(\\[].*?[\\)\\]]\", \"\", regex=True)\n"
   ]
  },
  {
   "cell_type": "code",
   "execution_count": 45,
   "metadata": {},
   "outputs": [],
   "source": [
    "data['Modified sequence'] = data['Modified sequence'].str.strip(\"_\")\n",
    "data['sequence'] = data['sequence'].str.replace(\")\", \"\")"
   ]
  },
  {
   "cell_type": "code",
   "execution_count": 46,
   "metadata": {},
   "outputs": [],
   "source": [
    "# Parse modifications from Modified sequence\n",
    "data['Modified sequence'] = data['Modified sequence'].str.replace('(Acetyl (Protein N-term))', '(ac)')\n",
    "data['Modified sequence'] = data['Modified sequence'].str.replace('(Oxidation (M))', '(ox)')\n",
    "data['Modified sequence'] = data['Modified sequence'].str.replace('(GlyGly (K))', 'GlyGly')"
   ]
  },
  {
   "cell_type": "code",
   "execution_count": 47,
   "metadata": {},
   "outputs": [],
   "source": [
    "data['modifications'] = data['Modified sequence'].apply(modifications)\n",
    "data['modifications'] = data['modifications'].replace('', 'Not modified')"
   ]
  },
  {
   "cell_type": "code",
   "execution_count": 48,
   "metadata": {},
   "outputs": [],
   "source": [
    "data['CCS'] = data['CCS'].apply(lambda x: np.array(x))"
   ]
  },
  {
   "cell_type": "code",
   "execution_count": 49,
   "metadata": {},
   "outputs": [],
   "source": [
    "data['multimodal'] = data['CCS'].apply(lambda x: x[0] != x[1])"
   ]
  },
  {
   "cell_type": "code",
   "execution_count": 50,
   "metadata": {},
   "outputs": [],
   "source": [
    "multimodals = data[data['multimodal']]"
   ]
  },
  {
   "cell_type": "code",
   "execution_count": 51,
   "metadata": {},
   "outputs": [
    {
     "data": {
      "text/html": [
       "<div>\n",
       "<style scoped>\n",
       "    .dataframe tbody tr th:only-of-type {\n",
       "        vertical-align: middle;\n",
       "    }\n",
       "\n",
       "    .dataframe tbody tr th {\n",
       "        vertical-align: top;\n",
       "    }\n",
       "\n",
       "    .dataframe thead th {\n",
       "        text-align: right;\n",
       "    }\n",
       "</style>\n",
       "<table border=\"1\" class=\"dataframe\">\n",
       "  <thead>\n",
       "    <tr style=\"text-align: right;\">\n",
       "      <th></th>\n",
       "      <th>Modified sequence</th>\n",
       "      <th>Charge</th>\n",
       "      <th>CCS</th>\n",
       "      <th>between_brackets</th>\n",
       "      <th>sequence</th>\n",
       "      <th>modifications</th>\n",
       "      <th>multimodal</th>\n",
       "    </tr>\n",
       "  </thead>\n",
       "  <tbody>\n",
       "    <tr>\n",
       "      <th>27</th>\n",
       "      <td>(ac)AAAAASAPQQLSDEELFSQLR</td>\n",
       "      <td>3</td>\n",
       "      <td>[606.7366658046817, 620.9744066641124]</td>\n",
       "      <td>Acetyl (Protein N-term</td>\n",
       "      <td>AAAAASAPQQLSDEELFSQLR</td>\n",
       "      <td>0|Acetyl</td>\n",
       "      <td>True</td>\n",
       "    </tr>\n",
       "    <tr>\n",
       "      <th>32</th>\n",
       "      <td>(ac)AAAAECDVVMAATEPELLDDQEAK</td>\n",
       "      <td>2</td>\n",
       "      <td>[592.059490518594, 569.4993303204092]</td>\n",
       "      <td>Acetyl (Protein N-term</td>\n",
       "      <td>AAAAECDVVMAATEPELLDDQEAK</td>\n",
       "      <td>0|Acetyl|6|Carbamidomethyl</td>\n",
       "      <td>True</td>\n",
       "    </tr>\n",
       "    <tr>\n",
       "      <th>48</th>\n",
       "      <td>(ac)AAAAVSESWPELELAER</td>\n",
       "      <td>2</td>\n",
       "      <td>[507.5739603232803, 491.76437437141686]</td>\n",
       "      <td>Acetyl (Protein N-term</td>\n",
       "      <td>AAAAVSESWPELELAER</td>\n",
       "      <td>0|Acetyl</td>\n",
       "      <td>True</td>\n",
       "    </tr>\n",
       "    <tr>\n",
       "      <th>55</th>\n",
       "      <td>(ac)AAAEAANCIMEVSCGQAESSEKPNAEDMTSK</td>\n",
       "      <td>3</td>\n",
       "      <td>[670.4411322249787, 687.1666992937121]</td>\n",
       "      <td>Acetyl (Protein N-term</td>\n",
       "      <td>AAAEAANCIMEVSCGQAESSEKPNAEDMTSK</td>\n",
       "      <td>0|Acetyl|8|Carbamidomethyl|14|Carbamidomethyl</td>\n",
       "      <td>True</td>\n",
       "    </tr>\n",
       "    <tr>\n",
       "      <th>70</th>\n",
       "      <td>(ac)AAAPPSYCFVAFPPR</td>\n",
       "      <td>2</td>\n",
       "      <td>[459.0285749239082, 469.80129636700474]</td>\n",
       "      <td>Acetyl (Protein N-term</td>\n",
       "      <td>AAAPPSYCFVAFPPR</td>\n",
       "      <td>0|Acetyl|8|Carbamidomethyl</td>\n",
       "      <td>True</td>\n",
       "    </tr>\n",
       "    <tr>\n",
       "      <th>...</th>\n",
       "      <td>...</td>\n",
       "      <td>...</td>\n",
       "      <td>...</td>\n",
       "      <td>...</td>\n",
       "      <td>...</td>\n",
       "      <td>...</td>\n",
       "      <td>...</td>\n",
       "    </tr>\n",
       "    <tr>\n",
       "      <th>168384</th>\n",
       "      <td>YYEAADTVTQFDNVR</td>\n",
       "      <td>2</td>\n",
       "      <td>[448.78183696046887, 488.48148395570104]</td>\n",
       "      <td>NaN</td>\n",
       "      <td>YYEAADTVTQFDNVR</td>\n",
       "      <td>Not modified</td>\n",
       "      <td>True</td>\n",
       "    </tr>\n",
       "    <tr>\n",
       "      <th>168401</th>\n",
       "      <td>YYEVLGAAATTDYNNNHEGREEDQR</td>\n",
       "      <td>3</td>\n",
       "      <td>[701.2847436917783, 681.1808928127417]</td>\n",
       "      <td>NaN</td>\n",
       "      <td>YYEVLGAAATTDYNNNHEGREEDQR</td>\n",
       "      <td>Not modified</td>\n",
       "      <td>True</td>\n",
       "    </tr>\n",
       "    <tr>\n",
       "      <th>168454</th>\n",
       "      <td>YYKTIDDLKNQILNLTTDNANILLQIDNAR</td>\n",
       "      <td>4</td>\n",
       "      <td>[776.0645745924537, 700.46461195494]</td>\n",
       "      <td>NaN</td>\n",
       "      <td>YYKTIDDLKNQILNLTTDNANILLQIDNAR</td>\n",
       "      <td>Not modified</td>\n",
       "      <td>True</td>\n",
       "    </tr>\n",
       "    <tr>\n",
       "      <th>168503</th>\n",
       "      <td>YYPTEDVPR</td>\n",
       "      <td>2</td>\n",
       "      <td>[381.96414347459046, 359.97420674223264]</td>\n",
       "      <td>NaN</td>\n",
       "      <td>YYPTEDVPR</td>\n",
       "      <td>Not modified</td>\n",
       "      <td>True</td>\n",
       "    </tr>\n",
       "    <tr>\n",
       "      <th>168582</th>\n",
       "      <td>YYVTIIDAPGHR</td>\n",
       "      <td>2</td>\n",
       "      <td>[429.38571741983844, 398.1511842085895]</td>\n",
       "      <td>NaN</td>\n",
       "      <td>YYVTIIDAPGHR</td>\n",
       "      <td>Not modified</td>\n",
       "      <td>True</td>\n",
       "    </tr>\n",
       "  </tbody>\n",
       "</table>\n",
       "<p>9782 rows × 7 columns</p>\n",
       "</div>"
      ],
      "text/plain": [
       "                          Modified sequence  Charge  \\\n",
       "27                (ac)AAAAASAPQQLSDEELFSQLR       3   \n",
       "32             (ac)AAAAECDVVMAATEPELLDDQEAK       2   \n",
       "48                    (ac)AAAAVSESWPELELAER       2   \n",
       "55      (ac)AAAEAANCIMEVSCGQAESSEKPNAEDMTSK       3   \n",
       "70                      (ac)AAAPPSYCFVAFPPR       2   \n",
       "...                                     ...     ...   \n",
       "168384                      YYEAADTVTQFDNVR       2   \n",
       "168401            YYEVLGAAATTDYNNNHEGREEDQR       3   \n",
       "168454       YYKTIDDLKNQILNLTTDNANILLQIDNAR       4   \n",
       "168503                            YYPTEDVPR       2   \n",
       "168582                         YYVTIIDAPGHR       2   \n",
       "\n",
       "                                             CCS        between_brackets  \\\n",
       "27        [606.7366658046817, 620.9744066641124]  Acetyl (Protein N-term   \n",
       "32         [592.059490518594, 569.4993303204092]  Acetyl (Protein N-term   \n",
       "48       [507.5739603232803, 491.76437437141686]  Acetyl (Protein N-term   \n",
       "55        [670.4411322249787, 687.1666992937121]  Acetyl (Protein N-term   \n",
       "70       [459.0285749239082, 469.80129636700474]  Acetyl (Protein N-term   \n",
       "...                                          ...                     ...   \n",
       "168384  [448.78183696046887, 488.48148395570104]                     NaN   \n",
       "168401    [701.2847436917783, 681.1808928127417]                     NaN   \n",
       "168454      [776.0645745924537, 700.46461195494]                     NaN   \n",
       "168503  [381.96414347459046, 359.97420674223264]                     NaN   \n",
       "168582   [429.38571741983844, 398.1511842085895]                     NaN   \n",
       "\n",
       "                               sequence  \\\n",
       "27                AAAAASAPQQLSDEELFSQLR   \n",
       "32             AAAAECDVVMAATEPELLDDQEAK   \n",
       "48                    AAAAVSESWPELELAER   \n",
       "55      AAAEAANCIMEVSCGQAESSEKPNAEDMTSK   \n",
       "70                      AAAPPSYCFVAFPPR   \n",
       "...                                 ...   \n",
       "168384                  YYEAADTVTQFDNVR   \n",
       "168401        YYEVLGAAATTDYNNNHEGREEDQR   \n",
       "168454   YYKTIDDLKNQILNLTTDNANILLQIDNAR   \n",
       "168503                        YYPTEDVPR   \n",
       "168582                     YYVTIIDAPGHR   \n",
       "\n",
       "                                        modifications  multimodal  \n",
       "27                                           0|Acetyl        True  \n",
       "32                         0|Acetyl|6|Carbamidomethyl        True  \n",
       "48                                           0|Acetyl        True  \n",
       "55      0|Acetyl|8|Carbamidomethyl|14|Carbamidomethyl        True  \n",
       "70                         0|Acetyl|8|Carbamidomethyl        True  \n",
       "...                                               ...         ...  \n",
       "168384                                   Not modified        True  \n",
       "168401                                   Not modified        True  \n",
       "168454                                   Not modified        True  \n",
       "168503                                   Not modified        True  \n",
       "168582                                   Not modified        True  \n",
       "\n",
       "[9782 rows x 7 columns]"
      ]
     },
     "execution_count": 51,
     "metadata": {},
     "output_type": "execute_result"
    }
   ],
   "source": [
    "multimodals"
   ]
  },
  {
   "cell_type": "code",
   "execution_count": 52,
   "metadata": {},
   "outputs": [
    {
     "name": "stderr",
     "output_type": "stream",
     "text": [
      "/tmp/ipykernel_2142810/1435201247.py:1: SettingWithCopyWarning: \n",
      "A value is trying to be set on a copy of a slice from a DataFrame\n",
      "\n",
      "See the caveats in the documentation: https://pandas.pydata.org/pandas-docs/stable/user_guide/indexing.html#returning-a-view-versus-a-copy\n",
      "  multimodals.rename(columns={'sequence':'seq', \"Charge\":\"charge\"}, inplace=True)\n"
     ]
    }
   ],
   "source": [
    "multimodals.rename(columns={'sequence':'seq', \"Charge\":\"charge\"}, inplace=True)"
   ]
  },
  {
   "cell_type": "code",
   "execution_count": 53,
   "metadata": {},
   "outputs": [
    {
     "name": "stderr",
     "output_type": "stream",
     "text": [
      "/tmp/ipykernel_2142810/1438102850.py:1: SettingWithCopyWarning: \n",
      "A value is trying to be set on a copy of a slice from a DataFrame.\n",
      "Try using .loc[row_indexer,col_indexer] = value instead\n",
      "\n",
      "See the caveats in the documentation: https://pandas.pydata.org/pandas-docs/stable/user_guide/indexing.html#returning-a-view-versus-a-copy\n",
      "  multimodals['tr'] = 0\n"
     ]
    }
   ],
   "source": [
    "multimodals['tr'] = 0"
   ]
  },
  {
   "cell_type": "code",
   "execution_count": null,
   "metadata": {},
   "outputs": [],
   "source": []
  },
  {
   "cell_type": "code",
   "execution_count": 54,
   "metadata": {},
   "outputs": [],
   "source": [
    "multimodals.to_pickle('/home/robbe/IM2DeepMulti/multimodals_more.pkl')"
   ]
  },
  {
   "cell_type": "code",
   "execution_count": 55,
   "metadata": {},
   "outputs": [],
   "source": [
    "multimodals.to_csv('/home/robbe/IM2DeepMulti/multimodals_more.csv')"
   ]
  }
 ],
 "metadata": {
  "kernelspec": {
   "display_name": "multioutput",
   "language": "python",
   "name": "python3"
  },
  "language_info": {
   "codemirror_mode": {
    "name": "ipython",
    "version": 3
   },
   "file_extension": ".py",
   "mimetype": "text/x-python",
   "name": "python",
   "nbconvert_exporter": "python",
   "pygments_lexer": "ipython3",
   "version": "3.10.13"
  }
 },
 "nbformat": 4,
 "nbformat_minor": 2
}
