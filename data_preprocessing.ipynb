{
 "cells": [
  {
   "cell_type": "code",
   "execution_count": 37,
   "metadata": {},
   "outputs": [],
   "source": [
    "import pandas as pd\n",
    "import numpy as np\n",
    "import re"
   ]
  },
  {
   "cell_type": "code",
   "execution_count": 38,
   "metadata": {},
   "outputs": [],
   "source": [
    "def modifications(input_string):\n",
    "    poslist = []\n",
    "    modlist = []\n",
    "    if \"(ac)\" in input_string:\n",
    "        poslist.append(0)\n",
    "        modlist.append('Acetyl')\n",
    "        input_string_noac = input_string.replace('(ac)', '')\n",
    "    else:\n",
    "        input_string_noac = input_string\n",
    "\n",
    "    while re.search(\"\\(ox\\)\", input_string_noac):\n",
    "        match = re.search(\"\\(ox\\)\", input_string_noac)\n",
    "        pos = match.span()[0]\n",
    "        poslist.append(pos)\n",
    "        modlist.append('Oxidation')\n",
    "        input_string_noac = re.sub('\\(ox\\)', '', input_string_noac, count=1)\n",
    "\n",
    "    C_positions = [pos for pos, char in enumerate(input_string_noac) if char == 'C']\n",
    "    for i in C_positions:\n",
    "        modlist.append(\"Carbamidomethyl\")\n",
    "        poslist.append(i+1)\n",
    "\n",
    "    sortedposlist = sorted(poslist)\n",
    "    sortedmodlist = [x for _, x in sorted(zip(poslist, modlist))]\n",
    "\n",
    "    formattedlist = []\n",
    "    for (pos, mod) in zip(sortedposlist, sortedmodlist):\n",
    "        formattedlist.append(str(pos)+'|'+str(mod))\n",
    "\n",
    "    output = '|'.join(formattedlist)\n",
    "    return output"
   ]
  },
  {
   "cell_type": "code",
   "execution_count": 39,
   "metadata": {},
   "outputs": [],
   "source": [
    "data = pd.read_csv('/home/robbe/multioutput_prediction/aligned_with_multimodals_conformers_unique_grouped.csv', sep=\";\", converters= {\"CCS\":pd.eval})"
   ]
  },
  {
   "cell_type": "code",
   "execution_count": 40,
   "metadata": {},
   "outputs": [],
   "source": [
    "# Strip \"_\" from sequence\n",
    "data[\"sequence\"] = data[\"Modified sequence\"].str.strip(\"_\")\n",
    "\n",
    "# Strip everything between \"()\" and \"[]\" from sequence\n",
    "data[\"sequence\"] = data[\"sequence\"].str.replace(r\"[\\(\\[].*?[\\)\\]]\", \"\", regex=True)\n"
   ]
  },
  {
   "cell_type": "code",
   "execution_count": 41,
   "metadata": {},
   "outputs": [],
   "source": [
    "data['Modified sequence'] = data['Modified sequence'].str.strip(\"_\")\n",
    "data['sequence'] = data['sequence'].str.replace(\")\", \"\")"
   ]
  },
  {
   "cell_type": "code",
   "execution_count": 42,
   "metadata": {},
   "outputs": [],
   "source": [
    "# Parse modifications from Modified sequence\n",
    "data['Modified sequence'] = data['Modified sequence'].str.replace('(Acetyl (Protein N-term))', '(ac)')\n",
    "data['Modified sequence'] = data['Modified sequence'].str.replace('(Oxidation (M))', '(ox)')"
   ]
  },
  {
   "cell_type": "code",
   "execution_count": 43,
   "metadata": {},
   "outputs": [],
   "source": [
    "data['modifications'] = data['Modified sequence'].apply(modifications)\n",
    "data['modifications'] = data['modifications'].replace('', 'Not modified')"
   ]
  },
  {
   "cell_type": "code",
   "execution_count": 44,
   "metadata": {},
   "outputs": [],
   "source": [
    "data['CCS'] = data['CCS'].apply(lambda x: np.array(x))"
   ]
  },
  {
   "cell_type": "code",
   "execution_count": 45,
   "metadata": {},
   "outputs": [],
   "source": [
    "data.rename(columns={'sequence':'seq', \"Charge\":\"charge\"}, inplace=True)"
   ]
  },
  {
   "cell_type": "code",
   "execution_count": 46,
   "metadata": {},
   "outputs": [],
   "source": [
    "data['tr'] = 0"
   ]
  },
  {
   "cell_type": "code",
   "execution_count": 47,
   "metadata": {},
   "outputs": [],
   "source": [
    "data.to_pickle('/home/robbe/multioutput_prediction/data_with_multimodals.pkl')"
   ]
  }
 ],
 "metadata": {
  "kernelspec": {
   "display_name": "multioutput",
   "language": "python",
   "name": "python3"
  },
  "language_info": {
   "codemirror_mode": {
    "name": "ipython",
    "version": 3
   },
   "file_extension": ".py",
   "mimetype": "text/x-python",
   "name": "python",
   "nbconvert_exporter": "python",
   "pygments_lexer": "ipython3",
   "version": "3.10.13"
  }
 },
 "nbformat": 4,
 "nbformat_minor": 2
}
