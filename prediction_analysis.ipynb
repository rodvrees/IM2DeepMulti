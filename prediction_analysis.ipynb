{
 "cells": [
  {
   "cell_type": "code",
   "execution_count": 11,
   "metadata": {},
   "outputs": [],
   "source": [
    "import pandas as pd\n",
    "import numpy as np\n",
    "import matplotlib.pyplot as plt\n",
    "import pickle"
   ]
  },
  {
   "cell_type": "code",
   "execution_count": 35,
   "metadata": {},
   "outputs": [],
   "source": [
    "predictions = pd.read_pickle('/home/robbe/IM2DeepMulti/preds/Test-BestPearsonBestModelMoreL1-2024-04-08_09-52-24.pkl')"
   ]
  },
  {
   "cell_type": "code",
   "execution_count": 36,
   "metadata": {},
   "outputs": [],
   "source": [
    "def calculate_mre(predictions):\n",
    "    predictions['CCS'] = predictions['CCS'].apply(lambda x: np.sort(x))\n",
    "    predictions['predicted_CCS'] = predictions.apply(lambda x: np.array([x['predicted_CCS1'], x['predicted_CCS2']]), axis=1)\n",
    "    predictions['predicted_CCS'] = predictions['predicted_CCS'].apply(lambda x: np.sort(x))\n",
    "    predictions['predicted_CCS1'] = predictions['predicted_CCS'].apply(lambda x: x[0])\n",
    "    predictions['predicted_CCS2'] = predictions['predicted_CCS'].apply(lambda x: x[1])\n",
    "    predictions['target_CCS1'] = predictions['CCS'].apply(lambda x: x[0])\n",
    "    predictions['target_CCS2'] = predictions['CCS'].apply(lambda x: x[1])\n",
    "    predictions['relative_error1'] = abs(predictions['predicted_CCS1'] - predictions['target_CCS1']) / predictions['target_CCS1']\n",
    "    predictions['relative_error2'] = abs(predictions['predicted_CCS2'] - predictions['target_CCS2']) / predictions['target_CCS2']\n",
    "    mre1 = predictions['relative_error1'].median() * 100\n",
    "    mre2 = predictions['relative_error2'].median() * 100\n",
    "    print(f'Median relative error for CCS1: {mre1}')\n",
    "    print(f'Median relative error for CCS2: {mre2}')\n",
    "    print(f'Median relative error for both CCS values: {(mre1 + mre2) / 2}')"
   ]
  },
  {
   "cell_type": "code",
   "execution_count": 37,
   "metadata": {},
   "outputs": [
    {
     "name": "stdout",
     "output_type": "stream",
     "text": [
      "Median relative error for CCS1: 1.4953511449977617\n",
      "Median relative error for CCS2: 1.7110886474151943\n",
      "Median relative error for both CCS values: 1.603219896206478\n"
     ]
    }
   ],
   "source": [
    "calculate_mre(predictions)"
   ]
  },
  {
   "cell_type": "code",
   "execution_count": 2,
   "metadata": {},
   "outputs": [],
   "source": [
    "import pickle\n",
    "train = pickle.load(open('/home/robbe/IM2DeepMulti/data/X_train_AtomEnc-OnlyMoreMultimodals.pickle', 'rb'))\n",
    "valid = pickle.load(open('/home/robbe/IM2DeepMulti/data/X_valid_AtomEnc-OnlyMoreMultimodals.pickle', 'rb'))\n",
    "test = pickle.load(open('/home/robbe/IM2DeepMulti/data/X_test_AtomEnc-OnlyMoreMultimodals.pickle', 'rb'))"
   ]
  },
  {
   "cell_type": "code",
   "execution_count": 3,
   "metadata": {},
   "outputs": [
    {
     "data": {
      "text/plain": [
       "(7922, 60, 6)"
      ]
     },
     "execution_count": 3,
     "metadata": {},
     "output_type": "execute_result"
    }
   ],
   "source": [
    "train.shape"
   ]
  },
  {
   "cell_type": "code",
   "execution_count": 4,
   "metadata": {},
   "outputs": [
    {
     "data": {
      "text/plain": [
       "(979, 60, 6)"
      ]
     },
     "execution_count": 4,
     "metadata": {},
     "output_type": "execute_result"
    }
   ],
   "source": [
    "valid.shape"
   ]
  },
  {
   "cell_type": "code",
   "execution_count": 5,
   "metadata": {},
   "outputs": [
    {
     "data": {
      "text/plain": [
       "(881, 60, 6)"
      ]
     },
     "execution_count": 5,
     "metadata": {},
     "output_type": "execute_result"
    }
   ],
   "source": [
    "test.shape"
   ]
  },
  {
   "cell_type": "code",
   "execution_count": 7,
   "metadata": {},
   "outputs": [],
   "source": [
    "y_monomodals = pickle.load(open('/home/robbe/IM2DeepMulti/data/y-Unimodals.pickle', 'rb'))"
   ]
  },
  {
   "cell_type": "code",
   "execution_count": 11,
   "metadata": {},
   "outputs": [],
   "source": [
    "import pandas as pd"
   ]
  },
  {
   "cell_type": "code",
   "execution_count": 24,
   "metadata": {},
   "outputs": [],
   "source": [
    "ccs_df_train = pd.read_pickle('/home/robbe/IM2DeepMulti/data/decoyeval/ccs_df_train_Unimodals.pkl')"
   ]
  },
  {
   "cell_type": "code",
   "execution_count": 25,
   "metadata": {},
   "outputs": [],
   "source": [
    "ccs_df_train.reset_index(inplace=True, drop=True)"
   ]
  },
  {
   "cell_type": "code",
   "execution_count": 26,
   "metadata": {},
   "outputs": [
    {
     "data": {
      "text/html": [
       "<div>\n",
       "<style scoped>\n",
       "    .dataframe tbody tr th:only-of-type {\n",
       "        vertical-align: middle;\n",
       "    }\n",
       "\n",
       "    .dataframe tbody tr th {\n",
       "        vertical-align: top;\n",
       "    }\n",
       "\n",
       "    .dataframe thead th {\n",
       "        text-align: right;\n",
       "    }\n",
       "</style>\n",
       "<table border=\"1\" class=\"dataframe\">\n",
       "  <thead>\n",
       "    <tr style=\"text-align: right;\">\n",
       "      <th></th>\n",
       "      <th>Modified sequence</th>\n",
       "      <th>charge</th>\n",
       "      <th>Conformer id total</th>\n",
       "      <th>CCS</th>\n",
       "      <th>between_brackets</th>\n",
       "      <th>seq</th>\n",
       "      <th>modifications</th>\n",
       "      <th>tr</th>\n",
       "    </tr>\n",
       "  </thead>\n",
       "  <tbody>\n",
       "    <tr>\n",
       "      <th>0</th>\n",
       "      <td>GFAVGNVVANLGLDLGSLSAR</td>\n",
       "      <td>3</td>\n",
       "      <td>1.0</td>\n",
       "      <td>590.146921</td>\n",
       "      <td>NaN</td>\n",
       "      <td>GFAVGNVVANLGLDLGSLSAR</td>\n",
       "      <td>Not modified</td>\n",
       "      <td>0</td>\n",
       "    </tr>\n",
       "    <tr>\n",
       "      <th>1</th>\n",
       "      <td>(ac)STETFAFNADIR</td>\n",
       "      <td>2</td>\n",
       "      <td>1.0</td>\n",
       "      <td>413.101279</td>\n",
       "      <td>Acetyl (Protein N-term</td>\n",
       "      <td>STETFAFNADIR</td>\n",
       "      <td>0|Acetyl</td>\n",
       "      <td>0</td>\n",
       "    </tr>\n",
       "    <tr>\n",
       "      <th>2</th>\n",
       "      <td>IPQLLLER</td>\n",
       "      <td>2</td>\n",
       "      <td>1.0</td>\n",
       "      <td>345.532494</td>\n",
       "      <td>NaN</td>\n",
       "      <td>IPQLLLER</td>\n",
       "      <td>Not modified</td>\n",
       "      <td>0</td>\n",
       "    </tr>\n",
       "    <tr>\n",
       "      <th>3</th>\n",
       "      <td>ELHINLIPNKQDR</td>\n",
       "      <td>4</td>\n",
       "      <td>1.0</td>\n",
       "      <td>630.067478</td>\n",
       "      <td>NaN</td>\n",
       "      <td>ELHINLIPNKQDR</td>\n",
       "      <td>Not modified</td>\n",
       "      <td>0</td>\n",
       "    </tr>\n",
       "    <tr>\n",
       "      <th>4</th>\n",
       "      <td>TMMACGGSIQTSVNALSADVLGR</td>\n",
       "      <td>3</td>\n",
       "      <td>1.0</td>\n",
       "      <td>634.594840</td>\n",
       "      <td>NaN</td>\n",
       "      <td>TMMACGGSIQTSVNALSADVLGR</td>\n",
       "      <td>5|Carbamidomethyl</td>\n",
       "      <td>0</td>\n",
       "    </tr>\n",
       "    <tr>\n",
       "      <th>...</th>\n",
       "      <td>...</td>\n",
       "      <td>...</td>\n",
       "      <td>...</td>\n",
       "      <td>...</td>\n",
       "      <td>...</td>\n",
       "      <td>...</td>\n",
       "      <td>...</td>\n",
       "      <td>...</td>\n",
       "    </tr>\n",
       "    <tr>\n",
       "      <th>142900</th>\n",
       "      <td>FLKPVELR</td>\n",
       "      <td>3</td>\n",
       "      <td>1.0</td>\n",
       "      <td>441.132352</td>\n",
       "      <td>NaN</td>\n",
       "      <td>FLKPVELR</td>\n",
       "      <td>Not modified</td>\n",
       "      <td>0</td>\n",
       "    </tr>\n",
       "    <tr>\n",
       "      <th>142901</th>\n",
       "      <td>QDVVLNYPM</td>\n",
       "      <td>2</td>\n",
       "      <td>1.0</td>\n",
       "      <td>346.151340</td>\n",
       "      <td>NaN</td>\n",
       "      <td>QDVVLNYPM</td>\n",
       "      <td>Not modified</td>\n",
       "      <td>0</td>\n",
       "    </tr>\n",
       "    <tr>\n",
       "      <th>142902</th>\n",
       "      <td>GRPISHSTTEDLK</td>\n",
       "      <td>3</td>\n",
       "      <td>1.0</td>\n",
       "      <td>519.403373</td>\n",
       "      <td>NaN</td>\n",
       "      <td>GRPISHSTTEDLK</td>\n",
       "      <td>Not modified</td>\n",
       "      <td>0</td>\n",
       "    </tr>\n",
       "    <tr>\n",
       "      <th>142903</th>\n",
       "      <td>QELELSVK</td>\n",
       "      <td>2</td>\n",
       "      <td>1.0</td>\n",
       "      <td>346.325156</td>\n",
       "      <td>NaN</td>\n",
       "      <td>QELELSVK</td>\n",
       "      <td>Not modified</td>\n",
       "      <td>0</td>\n",
       "    </tr>\n",
       "    <tr>\n",
       "      <th>142904</th>\n",
       "      <td>GSGGPGYLLTPPPHPDLGAGGLLSVK</td>\n",
       "      <td>3</td>\n",
       "      <td>1.0</td>\n",
       "      <td>578.898593</td>\n",
       "      <td>NaN</td>\n",
       "      <td>GSGGPGYLLTPPPHPDLGAGGLLSVK</td>\n",
       "      <td>Not modified</td>\n",
       "      <td>0</td>\n",
       "    </tr>\n",
       "  </tbody>\n",
       "</table>\n",
       "<p>142905 rows × 8 columns</p>\n",
       "</div>"
      ],
      "text/plain": [
       "                 Modified sequence  charge  Conformer id total         CCS  \\\n",
       "0            GFAVGNVVANLGLDLGSLSAR       3                 1.0  590.146921   \n",
       "1                 (ac)STETFAFNADIR       2                 1.0  413.101279   \n",
       "2                         IPQLLLER       2                 1.0  345.532494   \n",
       "3                    ELHINLIPNKQDR       4                 1.0  630.067478   \n",
       "4          TMMACGGSIQTSVNALSADVLGR       3                 1.0  634.594840   \n",
       "...                            ...     ...                 ...         ...   \n",
       "142900                    FLKPVELR       3                 1.0  441.132352   \n",
       "142901                   QDVVLNYPM       2                 1.0  346.151340   \n",
       "142902               GRPISHSTTEDLK       3                 1.0  519.403373   \n",
       "142903                    QELELSVK       2                 1.0  346.325156   \n",
       "142904  GSGGPGYLLTPPPHPDLGAGGLLSVK       3                 1.0  578.898593   \n",
       "\n",
       "              between_brackets                         seq      modifications  \\\n",
       "0                          NaN       GFAVGNVVANLGLDLGSLSAR       Not modified   \n",
       "1       Acetyl (Protein N-term                STETFAFNADIR           0|Acetyl   \n",
       "2                          NaN                    IPQLLLER       Not modified   \n",
       "3                          NaN               ELHINLIPNKQDR       Not modified   \n",
       "4                          NaN     TMMACGGSIQTSVNALSADVLGR  5|Carbamidomethyl   \n",
       "...                        ...                         ...                ...   \n",
       "142900                     NaN                    FLKPVELR       Not modified   \n",
       "142901                     NaN                   QDVVLNYPM       Not modified   \n",
       "142902                     NaN               GRPISHSTTEDLK       Not modified   \n",
       "142903                     NaN                    QELELSVK       Not modified   \n",
       "142904                     NaN  GSGGPGYLLTPPPHPDLGAGGLLSVK       Not modified   \n",
       "\n",
       "        tr  \n",
       "0        0  \n",
       "1        0  \n",
       "2        0  \n",
       "3        0  \n",
       "4        0  \n",
       "...     ..  \n",
       "142900   0  \n",
       "142901   0  \n",
       "142902   0  \n",
       "142903   0  \n",
       "142904   0  \n",
       "\n",
       "[142905 rows x 8 columns]"
      ]
     },
     "execution_count": 26,
     "metadata": {},
     "output_type": "execute_result"
    }
   ],
   "source": [
    "ccs_df_train"
   ]
  }
 ],
 "metadata": {
  "kernelspec": {
   "display_name": "multioutput",
   "language": "python",
   "name": "python3"
  },
  "language_info": {
   "codemirror_mode": {
    "name": "ipython",
    "version": 3
   },
   "file_extension": ".py",
   "mimetype": "text/x-python",
   "name": "python",
   "nbconvert_exporter": "python",
   "pygments_lexer": "ipython3",
   "version": "3.10.13"
  }
 },
 "nbformat": 4,
 "nbformat_minor": 2
}
