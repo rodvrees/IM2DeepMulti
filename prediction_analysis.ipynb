{
 "cells": [
  {
   "cell_type": "code",
   "execution_count": 11,
   "metadata": {},
   "outputs": [],
   "source": [
    "import pandas as pd\n",
    "import numpy as np\n",
    "import matplotlib.pyplot as plt\n",
    "import pickle"
   ]
  },
  {
   "cell_type": "code",
   "execution_count": 35,
   "metadata": {},
   "outputs": [],
   "source": [
    "predictions = pd.read_pickle('/home/robbe/IM2DeepMulti/preds/Test-BestPearsonBestModelMoreL1-2024-04-08_09-52-24.pkl')"
   ]
  },
  {
   "cell_type": "code",
   "execution_count": 36,
   "metadata": {},
   "outputs": [],
   "source": [
    "def calculate_mre(predictions):\n",
    "    predictions['CCS'] = predictions['CCS'].apply(lambda x: np.sort(x))\n",
    "    predictions['predicted_CCS'] = predictions.apply(lambda x: np.array([x['predicted_CCS1'], x['predicted_CCS2']]), axis=1)\n",
    "    predictions['predicted_CCS'] = predictions['predicted_CCS'].apply(lambda x: np.sort(x))\n",
    "    predictions['predicted_CCS1'] = predictions['predicted_CCS'].apply(lambda x: x[0])\n",
    "    predictions['predicted_CCS2'] = predictions['predicted_CCS'].apply(lambda x: x[1])\n",
    "    predictions['target_CCS1'] = predictions['CCS'].apply(lambda x: x[0])\n",
    "    predictions['target_CCS2'] = predictions['CCS'].apply(lambda x: x[1])\n",
    "    predictions['relative_error1'] = abs(predictions['predicted_CCS1'] - predictions['target_CCS1']) / predictions['target_CCS1']\n",
    "    predictions['relative_error2'] = abs(predictions['predicted_CCS2'] - predictions['target_CCS2']) / predictions['target_CCS2']\n",
    "    mre1 = predictions['relative_error1'].median() * 100\n",
    "    mre2 = predictions['relative_error2'].median() * 100\n",
    "    print(f'Median relative error for CCS1: {mre1}')\n",
    "    print(f'Median relative error for CCS2: {mre2}')\n",
    "    print(f'Median relative error for both CCS values: {(mre1 + mre2) / 2}')"
   ]
  },
  {
   "cell_type": "code",
   "execution_count": 37,
   "metadata": {},
   "outputs": [
    {
     "name": "stdout",
     "output_type": "stream",
     "text": [
      "Median relative error for CCS1: 1.4953511449977617\n",
      "Median relative error for CCS2: 1.7110886474151943\n",
      "Median relative error for both CCS values: 1.603219896206478\n"
     ]
    }
   ],
   "source": [
    "calculate_mre(predictions)"
   ]
  }
 ],
 "metadata": {
  "kernelspec": {
   "display_name": "multioutput",
   "language": "python",
   "name": "python3"
  },
  "language_info": {
   "codemirror_mode": {
    "name": "ipython",
    "version": 3
   },
   "file_extension": ".py",
   "mimetype": "text/x-python",
   "name": "python",
   "nbconvert_exporter": "python",
   "pygments_lexer": "ipython3",
   "version": "3.10.13"
  }
 },
 "nbformat": 4,
 "nbformat_minor": 2
}
